{
 "cells": [
  {
   "cell_type": "markdown",
   "id": "5dddfd27",
   "metadata": {},
   "source": [
    "***"
   ]
  },
  {
   "cell_type": "markdown",
   "id": "3c9b6599",
   "metadata": {},
   "source": [
    "# Machine Learning for time series using signatures and sensitivity analysis"
   ]
  },
  {
   "cell_type": "markdown",
   "id": "c7e68c59",
   "metadata": {},
   "source": [
    "***"
   ]
  },
  {
   "cell_type": "code",
   "execution_count": 8,
   "id": "3fa896a6",
   "metadata": {},
   "outputs": [],
   "source": [
    "import numpy as np\n",
    "import matplotlib.pyplot as plt\n",
    "import pandas as pd"
   ]
  },
  {
   "cell_type": "markdown",
   "id": "c7a5f4ac",
   "metadata": {},
   "source": [
    "Today, there exists 3 differents python packages to compute signatures :\n",
    "* esig\n",
    "* iisignature\n",
    "* signatory\n",
    "\n",
    "Let see what package can we choose with a benchmark test."
   ]
  },
  {
   "cell_type": "code",
   "execution_count": 2,
   "id": "c2fecc75",
   "metadata": {},
   "outputs": [],
   "source": [
    "import esig as ts\n",
    "import iisignature as isg\n",
    "import torch\n",
    "import signatory\n",
    "\n",
    "import perfplot"
   ]
  },
  {
   "cell_type": "code",
   "execution_count": 4,
   "id": "be3957fd",
   "metadata": {},
   "outputs": [
    {
     "data": {
      "application/vnd.jupyter.widget-view+json": {
       "model_id": "1a97c446ce6c48a7a82d06a47a0586cd",
       "version_major": 2,
       "version_minor": 0
      },
      "text/plain": [
       "Output()"
      ]
     },
     "metadata": {},
     "output_type": "display_data"
    },
    {
     "data": {
      "text/html": [
       "<pre style=\"white-space:pre;overflow-x:auto;line-height:normal;font-family:Menlo,'DejaVu Sans Mono',consolas,'Courier New',monospace\"></pre>\n"
      ],
      "text/plain": []
     },
     "metadata": {},
     "output_type": "display_data"
    },
    {
     "data": {
      "text/html": [
       "<pre style=\"white-space:pre;overflow-x:auto;line-height:normal;font-family:Menlo,'DejaVu Sans Mono',consolas,'Courier New',monospace\">\n",
       "</pre>\n"
      ],
      "text/plain": [
       "\n"
      ]
     },
     "metadata": {},
     "output_type": "display_data"
    },
    {
     "data": {
      "image/png": "[encoded data removed]",
      "text/plain": [
       "<Figure size 432x288 with 1 Axes>"
      ]
     },
     "metadata": {
      "needs_background": "dark"
     },
     "output_type": "display_data"
    }
   ],
   "source": [
    "perfplot.show(\n",
    "    setup=lambda n: np.random.rand(n,10),\n",
    "    kernels=[\n",
    "        lambda X: ts.stream2sig(X,4)[1:],\n",
    "        lambda X: isg.sig(X,4),\n",
    "        lambda X: signatory.signature(torch.from_numpy(X).unsqueeze(0),4)\n",
    "    ],\n",
    "    labels=[\"esig\", \"iisignature\", \"signatory\"],\n",
    "    n_range=[2**k for k in range(2,20)],\n",
    "    xlabel=\"T\",\n",
    ")\n"
   ]
  },
  {
   "cell_type": "markdown",
   "id": "955f3ee5",
   "metadata": {},
   "source": [
    "Si depth 2 nous suffit, alors on peut choisir iisignature. Par contre, si l'on veut des depth plus grande avec beaucoup plus de signatures (ie plus d'information), alors il est plus judicieux de choisir signatory."
   ]
  },
  {
   "cell_type": "markdown",
   "id": "7f92d6ba",
   "metadata": {},
   "source": [
    "Nous allons voir les données que nous avons à disposition et que nous devons traîter.\n",
    "Nous avons donc $(X_i,Y_i)_{i=1,\\dots,n}$, $X_i \\in \\mathbb{R}^d, \\,\\, Y_i \\in \\mathbb{R}$.\n",
    "les n correspondent à du temps, et le d à la dimension d'un chemin. Nous pouvons interprêter ces données comme d séries temporelles mesurées n fois en fonction du temps. Ce jeux de données est observé sur plusieurs vols. La manière la plus simple de modéliser le tout est donc de les voir comme un tenseur d'ordre 3, de taille $n \\times d \\times m$."
   ]
  },
  {
   "cell_type": "markdown",
   "id": "1e65bc27",
   "metadata": {},
   "source": [
    "***"
   ]
  },
  {
   "cell_type": "markdown",
   "id": "d62b5160",
   "metadata": {},
   "source": [
    "## Importance de l'utilisation des signatures :"
   ]
  },
  {
   "cell_type": "markdown",
   "id": "4ee58779",
   "metadata": {},
   "source": [
    "Pour cette étude sur l'importance des signatures pour la partie Machine Learning du modèle, nous allons comparer les différentes $R_{squared}$ que l'on obtient entre données brutes et les données avec signatures. \n",
    "\n",
    "Nous ferons également cet analyse après un lissage/débruitage des données par convolution.\n",
    "\n",
    "Considérons $(X_1, \\dots, X_p)$ chacun vivant dans $\\mathbb{R}^n$, ainsi que $Y \\in \\mathbb{R}^n$.\n",
    "Pour simplifier la compréhension, on peut voir chaque $X_i \\, , i \\in \\{ 1,\\dots,p \\}$ comme une série temporelle dans $\\mathbb{R}$ que l'on a mesuré $6 \\times 10^5$ fois. Dans ce jeu de données, p = 33."
   ]
  },
  {
   "cell_type": "code",
   "execution_count": 12,
   "id": "fb3a2998",
   "metadata": {},
   "outputs": [
    {
     "name": "stdout",
     "output_type": "stream",
     "text": [
      "Factors dim: (50000, 33)\n",
      "Output  dim: (50000,)\n"
     ]
    }
   ],
   "source": [
    "pd_X_train = pd.read_csv ('C:/Users/emari/Desktop/STAGE IMT 2023/X_train_liftoff.csv', sep=\";\")\n",
    "pd_Y_train = pd.read_csv ('C:/Users/emari/Desktop/STAGE IMT 2023/y_train_liftoff.csv', sep=\";\")\n",
    "pd_X_test  = pd.read_csv ('C:/Users/emari/Desktop/STAGE IMT 2023/X_test_liftoff.csv' , sep=\";\")\n",
    "pd_Y_test  = pd.read_csv ('C:/Users/emari/Desktop/STAGE IMT 2023/y_test_liftoff.csv' , sep=\";\")\n",
    "\n",
    "# Truncation\n",
    "start = 0\n",
    "end   = 50000\n",
    "conv_window = 10\n",
    "\n",
    "# Numpy conversion\n",
    "X_train = pd_X_train.to_numpy()[start:end,:]\n",
    "X_train[:,0] = 1\n",
    "Y_train = pd_Y_train.to_numpy()[start:end,1:].squeeze()\n",
    "\n",
    "X_test = pd_X_test.to_numpy()[start:end,:]\n",
    "X_test[:,0] = 1\n",
    "Y_test = pd_Y_test.to_numpy()[start:end,1:].squeeze()\n",
    "\n",
    "# Print dimensions\n",
    "print( \"Factors dim:\", X_train.shape )\n",
    "print( \"Output  dim:\", Y_train.shape )\n",
    "n, factor_count = X_train.shape"
   ]
  },
  {
   "cell_type": "markdown",
   "id": "1eaa8f01",
   "metadata": {},
   "source": [
    "Observons l'Output que nous devons approcher avec seulement 33 Inputs :"
   ]
  },
  {
   "cell_type": "code",
   "execution_count": 27,
   "id": "af3f4f8a",
   "metadata": {},
   "outputs": [
    {
     "data": {
      "image/png": "[encoded data removed]",
      "text/plain": [
       "<Figure size 432x288 with 1 Axes>"
      ]
     },
     "metadata": {
      "needs_background": "dark"
     },
     "output_type": "display_data"
    }
   ],
   "source": [
    "plt.plot(Y_train, 'k-')\n",
    "plt.grid(True)\n",
    "plt.title(\"Output $Y_{train}$\")\n",
    "plt.show()"
   ]
  },
  {
   "cell_type": "markdown",
   "id": "38362344",
   "metadata": {},
   "source": [
    "Maintenant, nous allons créer le nouveau jeu de données auquel on a rajouté les signatures :"
   ]
  },
  {
   "cell_type": "code",
   "execution_count": 30,
   "id": "049d4325",
   "metadata": {},
   "outputs": [],
   "source": [
    "def logsig_data(path, memory, depth_sig):\n",
    "    \n",
    "    print('shape of time considered during calcul of signatures :', memory)\n",
    "    window_data=np.zeros( (memory, path.shape[1]) )\n",
    "    \n",
    "    shape_sig=0\n",
    "    sig_list=[]\n",
    "    for k in range(path.shape[0]):\n",
    "        if k < memory:\n",
    "            window_data=np.zeros( (memory, path.shape[1]) )\n",
    "        else:\n",
    "            window_data=path[k-memory:k,:]\n",
    "        \n",
    "        signatures=signatory.logsignature( torch.from_numpy(window_data).unsqueeze(0), depth=depth_sig )\n",
    "        sig_list.append(np.array(signatures))\n",
    "        \n",
    "        shape_sig=signatures.shape[1] \n",
    "    \n",
    "    sig_array=np.array(sig_list)\n",
    "    nan_indices = np.where( sig_array != sig_array )\n",
    "    sig_array[nan_indices] = 0\n",
    "    \n",
    "    sig_array=sig_array.squeeze() #for reshape correctly our signatures\n",
    "    \n",
    "    print(\"lenght of one signature :\",shape_sig)\n",
    "    \n",
    "    new_data=np.append(path, sig_array, axis=1)\n",
    "    \n",
    "    return new_data"
   ]
  },
  {
   "cell_type": "code",
   "execution_count": 31,
   "id": "ee4388a0",
   "metadata": {},
   "outputs": [
    {
     "name": "stdout",
     "output_type": "stream",
     "text": [
      "shape of time considered during calcul of signatures : 500\n",
      "lenght of one signature : 561\n"
     ]
    }
   ],
   "source": [
    "new_data = logsig_data(X_train, 500, 2)"
   ]
  },
  {
   "cell_type": "code",
   "execution_count": null,
   "id": "2ac4f33f",
   "metadata": {},
   "outputs": [],
   "source": [
    "import statsmodels.api as sm"
   ]
  },
  {
   "cell_type": "markdown",
   "id": "4c5e60c7",
   "metadata": {},
   "source": [
    "#### Tests de $R_{squared}$ :"
   ]
  },
  {
   "cell_type": "code",
   "execution_count": null,
   "id": "d9ed83df",
   "metadata": {},
   "outputs": [],
   "source": [
    "##OLS entraîné avec les inputs seulement, sans convolution\n",
    "\n",
    "model_OLS  = sm.OLS(Y_train, X_train)\n",
    "result_OLS = model_OLS.fit()\n",
    "\n",
    "#OLS sans convolution, avec rajout des signatures\n",
    "\n",
    "model_OLS  = sm.OLS(Y_train, new_data)\n",
    "result_OLS = model_OLS.fit()\n",
    "\n",
    "#OLS AVEC CONVOLUTION sur les données d'entraînements:\n",
    "\n",
    "kernel = np.ones((conv_window,))/conv_window\n",
    "\n",
    "X_conv_list = []\n",
    "for i in range( X_train.shape[1]):\n",
    "    convolved = np.convolve( X_train[:,i], kernel, 'valid')\n",
    "    X_conv_list.append(convolved)\n",
    "X_train = np.array( X_conv_list ).T\n",
    "Y_train = np.convolve( Y_train, kernel, 'valid')\n",
    "\n",
    "#Entraînement du nouveau modèle\n",
    "\n",
    "model_OLS = sm.OLS(Y_train, X_train)\n",
    "result_OLS = model_OLS.fit()\n",
    "\n",
    "## Convolution + Signatures :\n",
    "\n",
    "model_OLS  = sm.OLS(Y_train, new_data)\n",
    "result_OLS = model_OLS.fit()"
   ]
  },
  {
   "cell_type": "markdown",
   "id": "2f0e2ffb",
   "metadata": {},
   "source": [
    "#### Conclusion de l'étude :\n",
    "\n",
    "$$\n",
    "\\mbox{Sans convolution :} \\left\\{\n",
    "    \\begin{array}{ll}\n",
    "        R_{\\mbox{squared}}^{brut} &= 0.769 \\\\\n",
    "        R_{\\mbox{squared}}^{sig} &= 0.817\n",
    "    \\end{array}\n",
    "\\right.\n",
    "$$\n",
    "\n",
    "$$\n",
    "\\mbox{Avec convolution :} \\left\\{\n",
    "    \\begin{array}{ll}\n",
    "        R_{\\mbox{squared}}^{brut} &= 0.928 \\\\\n",
    "        R_{\\mbox{squared}}^{sig} &= 0.984 \\\\\n",
    "        R_{\\mbox{squared}}^{alea} &= 0.929\n",
    "    \\end{array}\n",
    "\\right.\n",
    "$$"
   ]
  },
  {
   "cell_type": "markdown",
   "id": "b332778b",
   "metadata": {},
   "source": [
    "***"
   ]
  },
  {
   "cell_type": "markdown",
   "id": "f266fc2e",
   "metadata": {},
   "source": [
    "# Data set "
   ]
  },
  {
   "cell_type": "markdown",
   "id": "df4e61c3",
   "metadata": {},
   "source": [
    "    Version Windows :"
   ]
  },
  {
   "cell_type": "markdown",
   "id": "88dd3c21",
   "metadata": {},
   "source": [
    "        Nouveau jeu de données :"
   ]
  },
  {
   "cell_type": "code",
   "execution_count": 163,
   "id": "29ab23db",
   "metadata": {},
   "outputs": [],
   "source": [
    "Input_6101_V08 = pd.read_csv(\"C:/Users/emari/Desktop/STAGE IMT 2023/A320_6101_V0008_LANDING_input.csv\", sep=\";\")\n",
    "Output_6101_V08 = pd.read_csv(\"C:/Users/emari/Desktop/STAGE IMT 2023/A320_6101_V0008_LANDING_output_5061007F--.csv\", sep=\";\")\n",
    "\n",
    "Input_6101_V13 = pd.read_csv(\"C:/Users/emari/Desktop/STAGE IMT 2023/A320_6101_V0013_LANDING_input.csv\", sep=\";\")\n",
    "Output_6101_V13 = pd.read_csv(\"C:/Users/emari/Desktop/STAGE IMT 2023/A320_6101_V0013_LANDING_output_5061007F--.csv\", sep=\";\")\n",
    "\n",
    "Input_6101_V25 = pd.read_csv(\"C:/Users/emari/Desktop/STAGE IMT 2023/A320_6101_V0025_LANDING_input.csv\", sep=\";\")\n",
    "Output_6101_V25 = pd.read_csv(\"C:/Users/emari/Desktop/STAGE IMT 2023/A320_6101_V0025_LANDING_output_5061007F--.csv\", sep=\";\")\n",
    "\n",
    "Input_6101_V27 = pd.read_csv(\"C:/Users/emari/Desktop/STAGE IMT 2023/A320_6101_V0027_LANDING_input.csv\", sep=\";\")\n",
    "Output_6101_V27 = pd.read_csv(\"C:/Users/emari/Desktop/STAGE IMT 2023/A320_6101_V0027_LANDING_output_5061007F--.csv\", sep=\";\")\n",
    "\n",
    "Input_6101_V40 = pd.read_csv(\"C:/Users/emari/Desktop/STAGE IMT 2023/A320_6101_V0040_LANDING_input.csv\", sep=\";\")\n",
    "Output_6101_V40 = pd.read_csv(\"C:/Users/emari/Desktop/STAGE IMT 2023/A320_6101_V0040_LANDING_output_5061007F--.csv\", sep=\";\")\n",
    "\n",
    "Input_6101_V41 = pd.read_csv(\"C:/Users/emari/Desktop/STAGE IMT 2023/A320_6101_V0041_LANDING_input.csv\", sep=\";\")\n",
    "Output_6101_V41 = pd.read_csv(\"C:/Users/emari/Desktop/STAGE IMT 2023/A320_6101_V0041_LANDING_output_5061007F--.csv\", sep=\";\")\n",
    "\n",
    "Input_6101_V53 = pd.read_csv(\"C:/Users/emari/Desktop/STAGE IMT 2023/A320_6101_V0053_LANDING_input.csv\", sep=\";\")\n",
    "Output_6101_V53 = pd.read_csv(\"C:/Users/emari/Desktop/STAGE IMT 2023/A320_6101_V0053_LANDING_output_5061007F--.csv\", sep=\";\")\n",
    "\n",
    "Input_6101_V54 = pd.read_csv(\"C:/Users/emari/Desktop/STAGE IMT 2023/A320_6101_V0054_LANDING_input.csv\", sep=\";\")\n",
    "Output_6101_V54 = pd.read_csv(\"C:/Users/emari/Desktop/STAGE IMT 2023/A320_6101_V0054_LANDING_output_5061007F--.csv\", sep=\";\")\n",
    "\n",
    "Input_6101_V62 = pd.read_csv(\"C:/Users/emari/Desktop/STAGE IMT 2023/A320_6101_V0062_LANDING_input.csv\", sep=\";\")\n",
    "Output_6101_V62 = pd.read_csv(\"C:/Users/emari/Desktop/STAGE IMT 2023/A320_6101_V0062_LANDING_output_5061007F--.csv\", sep=\";\")\n",
    "\n",
    "Input_6101_V67 = pd.read_csv(\"C:/Users/emari/Desktop/STAGE IMT 2023/A320_6101_V0067_LANDING_input.csv\", sep=\";\")\n",
    "Output_6101_V67 = pd.read_csv(\"C:/Users/emari/Desktop/STAGE IMT 2023/A320_6101_V0067_LANDING_output_5061007F--.csv\", sep=\";\")\n",
    "\n",
    "Input_6101_V68 = pd.read_csv(\"C:/Users/emari/Desktop/STAGE IMT 2023/A320_6101_V0068_LANDING_input.csv\", sep=\";\")\n",
    "Output_6101_V68 = pd.read_csv(\"C:/Users/emari/Desktop/STAGE IMT 2023/A320_6101_V0068_LANDING_output_5061007F--.csv\", sep=\";\")\n",
    "\n",
    "Input_6101_V70 = pd.read_csv(\"C:/Users/emari/Desktop/STAGE IMT 2023/A320_6101_V0070_LANDING_input.csv\", sep=\";\")\n",
    "Output_6101_V70 = pd.read_csv(\"C:/Users/emari/Desktop/STAGE IMT 2023/A320_6101_V0070_LANDING_output_5061007F--.csv\", sep=\";\")\n",
    "\n",
    "Input_6101_V89 = pd.read_csv(\"C:/Users/emari/Desktop/STAGE IMT 2023/A320_6101_V0089_LANDING_input.csv\", sep=\";\")\n",
    "Output_6101_V89 = pd.read_csv(\"C:/Users/emari/Desktop/STAGE IMT 2023/A320_6101_V0089_LANDING_output_5061007F--.csv\", sep=\";\")\n",
    "\n",
    "Input_6101_V96 = pd.read_csv(\"C:/Users/emari/Desktop/STAGE IMT 2023/A320_6101_V0096_LANDING_input.csv\", sep=\";\")\n",
    "Output_6101_V96 = pd.read_csv(\"C:/Users/emari/Desktop/STAGE IMT 2023/A320_6101_V0096_LANDING_output_5061007F--.csv\", sep=\";\")\n",
    "\n",
    "### convert into numpy array()\n",
    "\n",
    "X_1, Y_1 = Input_6101_V08.to_numpy(), Output_6101_V08.to_numpy()\n",
    "X_2, Y_2 = Input_6101_V13.to_numpy(), Output_6101_V13.to_numpy()\n",
    "X_3, Y_3 = Input_6101_V25.to_numpy(), Output_6101_V25.to_numpy()\n",
    "X_4, Y_4 = Input_6101_V27.to_numpy(), Output_6101_V27.to_numpy()\n",
    "X_5, Y_5 = Input_6101_V40.to_numpy(), Output_6101_V40.to_numpy()\n",
    "X_6, Y_6 = Input_6101_V41.to_numpy(), Output_6101_V41.to_numpy()\n",
    "X_7, Y_7 = Input_6101_V53.to_numpy(), Output_6101_V53.to_numpy()\n",
    "X_8, Y_8 = Input_6101_V54.to_numpy(), Output_6101_V54.to_numpy()\n",
    "X_9, Y_9 = Input_6101_V62.to_numpy(), Output_6101_V62.to_numpy()\n",
    "X_10, Y_10 = Input_6101_V67.to_numpy(), Output_6101_V67.to_numpy()\n",
    "X_11, Y_11 = Input_6101_V68.to_numpy(), Output_6101_V68.to_numpy()\n",
    "X_12, Y_12 = Input_6101_V70.to_numpy(), Output_6101_V70.to_numpy()\n",
    "X_13, Y_13 = Input_6101_V89.to_numpy(), Output_6101_V89.to_numpy()\n",
    "X_14, Y_14 = Input_6101_V96.to_numpy(), Output_6101_V96.to_numpy()"
   ]
  },
  {
   "cell_type": "markdown",
   "id": "99dfb75a",
   "metadata": {},
   "source": [
    "    Version Linux"
   ]
  },
  {
   "cell_type": "code",
   "execution_count": 59,
   "id": "77ff6053",
   "metadata": {},
   "outputs": [],
   "source": [
    "Input_train = pd.read_csv(\"/home/emilio/Documents/Stage-IMT-2023/First-data-set/X_train_liftoff.csv\", sep=\";\")\n",
    "Output_train = pd.read_csv(\"/home/emilio/Documents/Stage-IMT-2023/First-data-set/y_train_liftoff.csv\", sep=\";\")\n",
    "\n",
    "X_train = Input_train.to_numpy()\n",
    "Y_train = Output_train.to_numpy()"
   ]
  },
  {
   "cell_type": "markdown",
   "id": "aee33af4",
   "metadata": {},
   "source": [
    "## Intuition for dataset"
   ]
  },
  {
   "cell_type": "code",
   "execution_count": 482,
   "id": "8148f5eb",
   "metadata": {},
   "outputs": [],
   "source": [
    "plt.plot(X_1[:,2], 'k-', label=\"2eme serie temporelle du vol 1\")\n",
    "plt.grid(True)\n",
    "plt.legend()\n",
    "plt.show()"
   ]
  },
  {
   "cell_type": "code",
   "execution_count": 485,
   "id": "e824b800",
   "metadata": {},
   "outputs": [
    {
     "name": "stdout",
     "output_type": "stream",
     "text": [
      "\n",
      " taille d'une série temporelle :  1921 . \n",
      " taille d'un dataset entier :  (1921, 41) .\n"
     ]
    }
   ],
   "source": [
    "print(\"\\n taille d'une série temporelle : \", X_1.shape[0], \". \\n taille d'un dataset entier : \", X_1.shape, \".\")"
   ]
  },
  {
   "cell_type": "markdown",
   "id": "a8f1c294",
   "metadata": {},
   "source": [
    "Pour un vol, il y a 40 séries temporelles, avec 1921 observations chacunes. $\\newline$ \n",
    "La série temporelle suivante est l'output d'un des vols, que nous voulons approcher au mieux."
   ]
  },
  {
   "cell_type": "code",
   "execution_count": 183,
   "id": "8fc87ad0",
   "metadata": {},
   "outputs": [
    {
     "data": {
      "image/png": "[encoded data removed]",
      "text/plain": [
       "<Figure size 432x288 with 1 Axes>"
      ]
     },
     "metadata": {
      "needs_background": "dark"
     },
     "output_type": "display_data"
    }
   ],
   "source": [
    "plt.plot(Y_1[:,1], 'b', label=\"True Output\")\n",
    "plt.legend()\n",
    "plt.grid(True)\n",
    "plt.show()"
   ]
  },
  {
   "cell_type": "markdown",
   "id": "e3c1e39f",
   "metadata": {},
   "source": [
    "On peut le débruiter un peu pour observer sa tendance."
   ]
  },
  {
   "cell_type": "code",
   "execution_count": 6,
   "id": "90ead3d6",
   "metadata": {},
   "outputs": [],
   "source": [
    "# Moyenne mobile\n",
    "def moy_mob(X, order):\n",
    "    M = np.zeros(X.shape[0] - order + 1)\n",
    "    for i in range(M.shape[0]):\n",
    "        M[i] = np.mean(X[i:i+order])\n",
    "    return M"
   ]
  },
  {
   "cell_type": "code",
   "execution_count": 486,
   "id": "9b94d454",
   "metadata": {},
   "outputs": [],
   "source": [
    "plt.plot(Y_1[:,1], 'b-', label='true output')\n",
    "plt.plot(moy_mob(Y_1[:,1], 50), 'orange', label='denoise output')\n",
    "plt.grid(True)\n",
    "plt.legend()\n",
    "plt.show()"
   ]
  },
  {
   "cell_type": "markdown",
   "id": "ef28c237",
   "metadata": {},
   "source": [
    "***"
   ]
  },
  {
   "cell_type": "markdown",
   "id": "0a80b50d",
   "metadata": {},
   "source": [
    "## Sensitivity analysis"
   ]
  },
  {
   "cell_type": "markdown",
   "id": "835138dd",
   "metadata": {},
   "source": [
    "Pour chaque vols, nous allons générer un objet mathématique que l'on appelle signatures, associées à nos processus. Cet objet mathématique est une sorte d'intégrale itérée, infinie, et permet de décrire d'une autre manière un processus temporel, peu importe sa dimension. \n",
    "\n",
    "Pour les implémenter, nous allons donc considérer pour chaque vol que l'ensemble de nos données est un chemin temporelle de dimension $D=41$. \n",
    "\n",
    "Pour la documentation : Louis Carlier."
   ]
  },
  {
   "cell_type": "markdown",
   "id": "64872407",
   "metadata": {},
   "source": [
    "Comme les signatures sont des objets de taille infinies, il faut donc choisir un seuil d'arrêt pour les générer numériquement. On s'arrêtera ici au seuil 2, qui génèrera quand même $D + D^2$ signatures.\n",
    "\n",
    "Ainsi, on génère 861 signatures, ie 861 données en plus des 41 précédentes, toutes de taille 1921 (nombre d'observations initiales).\n",
    "L'importance de l'analyse de sensibilité est donc judicieux, en vue du grand nombre de données, afin de choisir judicieusement les features les plus intéressantes pour prédire $Y$.\n",
    "\n",
    "Pour les choisir, une manière intuitive de comprendre ce que nous allons faire est de considérer l'indice de Sobol.\n",
    ">Soit $X$ et $Y$ 2 variables aléatoires, plus ou moins corrélées entre elles. Pour quantifier leur dépendance, une idée est de calculer la valeur du coefficient suivant :\n",
    ">>$$\n",
    "S^{X,Y} = \\dfrac{\\text{Var}(\\mathbb{E}[Y | X])}{\\text{Var}(Y)}.\n",
    "$$\n",
    ">\n",
    ">En effet, si $Y$ est fonction de $X$ (totalement dépendante), alors $\\mathbb{E}[Y | X] = Y$, et donc $S^{X,Y} = 1$.\n",
    "A l'inverse, si $Y$ est indépendante de $X$, alors  $\\mathbb{E}[Y | X] = \\mathbb{E}[Y] = cste$, et donc $\\text{Var}(cste) = 0$.\n",
    "Au final, $S^{X,Y} \\in [0,1]$ et facile à comprendre intuitivement.\n",
    "\n",
    "Malheuresement, les indices de Sobols ont leur limite, par le simple fait qu'ils soient construits seulement par les moments d'ordre 2, ie la variance, donc 2 variables aléatoires qui ont une influence différente sur l'Output $Y$ pourraient avoir la même variance (évènement tout à fait possible), cela limiterait notre étude.\n",
    "\n",
    "Nous allons maintenant donc voir l'indice de Cramér-von-Mises, qui lui utilise toute la distribution de nos inputs."
   ]
  },
  {
   "cell_type": "markdown",
   "id": "eff7d658",
   "metadata": {},
   "source": [
    "$$\n",
    "S^i_{CvM} = \\dfrac{\\int_{R^n} Var(\\mathbb{E}[Y | X_i])}{xcx}\n",
    "$$"
   ]
  },
  {
   "cell_type": "markdown",
   "id": "24961abb",
   "metadata": {},
   "source": [
    "Pour estimer cet indice, il y a plusieurs façons de procéder : l'estimation Pick-Freeze, U-statistics ou encore par une méthode de rang.***\n",
    "Pour Pick-Freeze, il faut pouvoir générer des copies indépendantes de nos données, ce qui n'est pas disponible dans notre contexte. J'ai choisis d'utiliser la méthode de rang, qui a été proposée par Chatterjee.\n",
    "\n",
    "\n"
   ]
  },
  {
   "cell_type": "markdown",
   "id": "3d6af892",
   "metadata": {},
   "source": [
    "Cet indice est très utile, et n'est pas difficile à estimer.\n",
    "Mais pour le type de données que nous avons, il nous faut un indice qui gère la dépendance conditionnelle entre $Y$ et $X$.\n",
    "\n",
    "\n",
    "Proposé par MONA AZADKIA & SOURAV CHATTERJE, un nouveau coefficient est très pratique pour le type de données que nous avons.\n",
    "\n",
    ">Soit $Y$ une variable aléatoire, $\\textbf{X}=(X_1,\\dots,X_p)$ et $\\textbf{Z}=(Z_1,\\dots,Z_q)$ deux vecteurs aléatoires.\n",
    "Soit $\\mu$ la loi de $Y$. on définit $T$ par :\n",
    ">>$$\n",
    "T = T(T, \\textbf{Z} | \\textbf{X} ) = \\dfrac{\\int \\mathbb{E}[\\text{Var}(\\mathbb{P}(Y \\geq t |\\textbf{Z}, \\textbf{X}) | \\textbf{X})] d\\mu(t)}{\\int \\mathbb{E}[\\text{Var}(\\mathbb{1}_{\\{Y \\geq t\\}} | \\textbf{X}] d\\mu(t)}$$\n",
    "\n",
    "\n",
    "Maintenant que nous avons le bon indice, il faut l'estimer. \n",
    "La suite de ce notebook propose un estimateur consistant de $T$, également énoncé par Sourav Chatterje.\n",
    "\n"
   ]
  },
  {
   "cell_type": "markdown",
   "id": "b5f75067",
   "metadata": {},
   "source": [
    "Let $R_i$ be the rank of $Y_i$, that is the number of j such that $Y_j \\leqslant Y_i$.\n",
    "Let $L_i$ be tje inverse of $R_i$."
   ]
  },
  {
   "cell_type": "markdown",
   "id": "ff4f2e1f",
   "metadata": {},
   "source": [
    ">When $\\textbf{X}$ is a list of nothing :\n",
    ">\n",
    ">>$$T_n = T_n(Y, \\textbf{Z}) = \\dfrac{\\sum_i n \\, \\text{min}\\{ R_i, R_{N(i)} \\} - L_i²}{\\sum_i L_i(n-L_i)},$$\n",
    ">>\n",
    ">where $L_i$ is the number of j such that $Y_j \\geq Y_i$.\n"
   ]
  },
  {
   "cell_type": "markdown",
   "id": "697ea610",
   "metadata": {},
   "source": [
    ">When $\\textbf{X}$ is not empty :\n",
    ">\n",
    ">>$$T_n = T_n(Y,\\textbf{Z} | \\textbf{X}) = \\dfrac{\\sum_{i=1}^n \\left( \\text{min}\\{R_i,R_{M(i)}\\} - \\text{min}\\{R_i,R_{N(i)}\\}\\right)}{\\sum_{i=1}^n \\left( R_i - \\text{min}\\{R_i,R_{N(i)}\\}\\right)},$$\n",
    ">>\n",
    ">where $M$ and $N$ are Nearest Neighors permutations."
   ]
  },
  {
   "cell_type": "markdown",
   "id": "f98a3524",
   "metadata": {},
   "source": [
    "***"
   ]
  },
  {
   "cell_type": "markdown",
   "id": "0fe7e57b",
   "metadata": {},
   "source": [
    "# Implémentation de FOCI"
   ]
  },
  {
   "cell_type": "code",
   "execution_count": 13,
   "id": "d91e87f4",
   "metadata": {},
   "outputs": [],
   "source": [
    "from sklearn.neighbors import NearestNeighbors"
   ]
  },
  {
   "cell_type": "markdown",
   "id": "4c42464a",
   "metadata": {},
   "source": [
    "### Creation of our data with the signatures : "
   ]
  },
  {
   "cell_type": "markdown",
   "id": "412515e3",
   "metadata": {},
   "source": [
    "L'algorithme suivant permet de générer les signatures associées à un chemin choisi, avec un seuil donné."
   ]
  },
  {
   "cell_type": "code",
   "execution_count": 282,
   "id": "cfa8ccca",
   "metadata": {},
   "outputs": [],
   "source": [
    "def sig_data(path, memory, depth_sig):\n",
    "    \n",
    "    print('shape of time considered during calcul of signatures :', memory)\n",
    "    window_data=np.zeros( (memory, path.shape[1]) )\n",
    "    \n",
    "    shape_sig=0\n",
    "    sig_list=[]\n",
    "    for k in range(path.shape[0]):\n",
    "        if k < memory:\n",
    "            window_data=np.zeros( (memory, path.shape[1]) )\n",
    "        else:\n",
    "            window_data=path[k-memory:k,:]\n",
    "        \n",
    "        signatures=signatory.logsignature( torch.from_numpy(window_data).unsqueeze(0), depth=depth_sig )\n",
    "        sig_list.append(np.array(signatures))\n",
    "        \n",
    "        shape_sig=signatures.shape[1] \n",
    "    \n",
    "    sig_array=np.array(sig_list)\n",
    "    nan_indices = np.where( sig_array != sig_array )\n",
    "    sig_array[nan_indices] = 0\n",
    "    \n",
    "    sig_array=sig_array.squeeze() #for reshape correctly our signatures\n",
    "    \n",
    "    print(\"lenght of one signature :\",shape_sig)\n",
    "    \n",
    "    return sig_array"
   ]
  },
  {
   "cell_type": "code",
   "execution_count": 488,
   "id": "2c858aa0",
   "metadata": {
    "scrolled": false
   },
   "outputs": [
    {
     "name": "stdout",
     "output_type": "stream",
     "text": [
      "shape of time considered during calcul of signatures : 500\n",
      "lenght of one signature : 861\n",
      "shape of time considered during calcul of signatures : 500\n",
      "lenght of one signature : 861\n",
      "shape of time considered during calcul of signatures : 500\n",
      "lenght of one signature : 861\n"
     ]
    }
   ],
   "source": [
    "data_sig1 = sig_data(X_1, 500, 2)\n",
    "data_sig2 = sig_data(X_2, 500, 2)\n",
    "data_sig3 = sig_data(X_3, 500, 2)"
   ]
  },
  {
   "cell_type": "markdown",
   "id": "70f1b661",
   "metadata": {},
   "source": [
    "#### List of zeros features that are common between flight 1 & flight 2 : "
   ]
  },
  {
   "cell_type": "code",
   "execution_count": 491,
   "id": "fd12977a",
   "metadata": {},
   "outputs": [],
   "source": [
    "delete1 = np.where(np.var( data_sig1, axis=0 ) == 0)\n",
    "delete2 = np.where(np.var( data_sig2, axis=0 ) == 0)\n",
    "\n",
    "deleting = set(delete1[0]).union(set(delete2[0]))\n",
    "dele = np.array(list(deleting))"
   ]
  },
  {
   "cell_type": "markdown",
   "id": "d1bb3879",
   "metadata": {},
   "source": [
    "### FOCI Algorithm"
   ]
  },
  {
   "cell_type": "markdown",
   "id": "1cccfee6",
   "metadata": {},
   "source": [
    "$\\textbf{Remarque préliminaire.}$ Comme nos données sont des séries temporelles, chacune des observations dépendent au minimum de la mesure précédente, ce qui fausserait l'algorithme des plus proches voisins, en prenant souvent celui juste avant ou juste après. Pour remédier à ça, nous allons sous-échantilloner nos données, et choisir les valeurs toutes les 8 mesures (référence au 8 bits)."
   ]
  },
  {
   "cell_type": "markdown",
   "id": "be0bb6f8",
   "metadata": {},
   "source": [
    "L'algorithme suivant permet de retourner une liste de nombre, correspondant aux indices d'input sélectionnés par rapport au coefficient de Chatterjee.\n",
    "\n",
    "Cette méthode est appelée $\\textbf{Feature Ordering by Conditionnal Independance} \\, \\, (FOCI)$.\n",
    "\n",
    ">Soit $Y$ l'Output considéré, et $\\textbf{X} = (X_1,\\dots,X_p)$ l'ensemble des features. Supposons que nous avons $n_{sample}$ iid copies de cet ensemble. \n",
    "Dans le cas de nos données, p correspondrait à 41+861, et $n_{sample}$ à 1921/8 (nombre d'observations divisées par 8 pour les rendre les plus indépendantes possibles, sans perdre trop d'informations).\n",
    "Choisissons pour commencer $j_1$, l'indice $j_{star}$ tel que $j_{star} \\in \\text{argmax}_j T_n(Y, X_j)$.\n",
    ">\n",
    ">On note ensuite $j_2$ l'indice $j_{star} \\neq j_1$ tel que $j_{star} \\in \\text{argmax}_j T_n(Y, X_j | X_{j_1})$.\n",
    ">\n",
    ">Finallement, après avoir obtenu $\\{j_1,\\dots,j_k \\}$, choisir $j_{k+1} \\notin \\{j_1,\\dots,j_k \\}$ tel que\n",
    ">$j_{k+1} \\in \\text{argmax}_j T_n(Y, X_j | X_{j_1}, \\dots, X_{j_k})$.\n",
    "\n",
    "\n",
    "Cet algorithme nous renvoie donc la liste des j dans l'ordre décroissant par rapport à l'indice de Chatterjee.\n",
    "En pratique, on met fin à cet algorithme lorsque l'on tombe sur un $j_{star}$ négatif.\n",
    "\n",
    "$\\textbf{Remarque : }$ Il est également vivement recommandé de standardiser les features avant d'implémenter l'algorithme FOCI. "
   ]
  },
  {
   "cell_type": "code",
   "execution_count": 291,
   "id": "02b59433",
   "metadata": {},
   "outputs": [],
   "source": [
    "def FOCI_function(X, y, memory, dele=None):\n",
    "    \n",
    "    delete = np.where(np.var( X, axis=0 ) == 0) ## deleting the zeros inputs \n",
    "    if dele is not None:\n",
    "    \n",
    "        print(\"assume delete \",dele)\n",
    "        print(\"instead of \",delete)\n",
    "    \n",
    "        delete = dele\n",
    "    else:\n",
    "            \n",
    "        print(\"to be deleted:\",delete)\n",
    "    \n",
    "    X = np.delete( X, delete, axis = 1)\n",
    "    \n",
    "    X_train_stand = (X - np.mean(X, axis=0))/np.var(X, axis = 0)\n",
    "    Y_train_stand = (y[:,1] - np.mean(y[:,1], axis=0))/np.sqrt(np.var(y[:,1], axis = 0))\n",
    "\n",
    "    X_iid = np.zeros((int(X.shape[0]/memory),X.shape[1])) \n",
    "    Y_iid = np.zeros(int(y.shape[0]/memory))\n",
    "\n",
    "    for k in range(int(X.shape[0]/memory)): ## we have with this shape 100x40 instead of 2000x40 with iid data \n",
    "        X_iid[k,:] = X_train_stand[k*memory,:]\n",
    "        Y_iid[k] = Y_train_stand[k*memory]\n",
    "        \n",
    "    \n",
    "    Liste_principale = []\n",
    "    value = []\n",
    "    \n",
    "    \n",
    "    X_iid = np.append(X_iid, np.arange(X_iid.shape[1]).reshape(1,-1), axis=0) ## add a row of arange in our inputs\n",
    "                                                                              ##  to simplify the code\n",
    "    Z = X_iid #to keep the notation of the paper\n",
    "    Y = Y_iid #same as above\n",
    "    n = Z.shape[0] - 1 #number of rows into our model\n",
    "\n",
    "    R = np.argsort(Y) #R define below\n",
    "    L = n - R  #L define below\n",
    "\n",
    "\n",
    "    T_list=np.zeros(Z.shape[1]) ## T_list is a list of the permutation N\n",
    "    for i in range(Z.shape[1]):\n",
    "        NN = NearestNeighbors(n_neighbors=2, algorithm='auto', metric='euclidean').fit(Z[:-1,i].reshape(-1,1))\n",
    "\n",
    "        # show the two nearest neighbors of each X in R^n, and take the good neighbor\n",
    "        idx = NN.kneighbors(Z[:-1,i].reshape(-1,1))[1][:,1]\n",
    "\n",
    "        ## Then, use the previous formula, when X = [], to implement the first iteration of FOCI algorithm :\n",
    "        T_list[i] = np.sum(n*np.minimum(R,R[idx]) - L**2)/np.sum(L*(n-L))\n",
    "        \n",
    "        \n",
    "    j_star = np.argmax(T_list) #j_star is the index where Tn as the highest value\n",
    "    print(\"the argmax of all the estimator coefficient is \", j_star)\n",
    "    print(\"This value is \",T_list[j_star])\n",
    "\n",
    "    Liste_principale.append(j_star)\n",
    "    value.append(T_list[j_star])\n",
    "    \n",
    "    Z2 = X_iid # On stocke la valeur de Z dans Z2\n",
    "    \n",
    "    X_=X_iid[:,j_star].reshape(-1,1) # X_ est l'input dont l'indice est j_star \n",
    "    idx=j_star\n",
    "\n",
    "    for l in range(Z2.shape[1]):\n",
    "        \n",
    "        X_ = np.concatenate((X_, Z[:,idx].reshape(-1,1)), axis=1) ## X_ is the conditionnal array in the formula\n",
    "        X_iid = np.delete(X_iid, idx, axis = 1)  #the new Z, without Z[j_star] \n",
    "        Z = X_iid  ## construct the new Z\n",
    "\n",
    "        nn = NearestNeighbors(n_neighbors=2, algorithm='auto', metric='euclidean').fit(X_[:-1,:])\n",
    "        N = nn.kneighbors(X_)[1][:-1,1]  # la permutation N de l'estimateur      \n",
    "\n",
    "        T_list=np.zeros(Z.shape[1])\n",
    "        for i in range(Z.shape[1]):\n",
    "            NN = NearestNeighbors(n_neighbors=2, algorithm='auto', metric='euclidean').fit(Z[:-1,i].reshape(-1,1))\n",
    "\n",
    "            M = NN.kneighbors(Z[:-1,i].reshape(-1,1))[1][:,1]  #la permutation M de l'estimateur\n",
    "\n",
    "            T_list[i] = np.sum(np.minimum(R,R[M]) - np.minimum(R,R[N]))/np.sum(R-np.minimum(R,R[N]))\n",
    "        if T_list.any() == np.zeros(Z.shape[1]).any():\n",
    "            break\n",
    "    \n",
    "        idx = np.argmax(T_list)\n",
    "        j_star = int(X_iid[-1, idx])\n",
    "\n",
    "        Liste_principale = np.append(Liste_principale, j_star)\n",
    "        value = np.append(value, T_list[idx])\n",
    "    \n",
    "    X_iid = np.delete(Z2, -1, axis=0) #On reconstruit X\n",
    "    \n",
    "    return Liste_principale, value, delete"
   ]
  },
  {
   "cell_type": "code",
   "execution_count": 492,
   "id": "b52d7327",
   "metadata": {},
   "outputs": [],
   "source": [
    "drop = 8"
   ]
  },
  {
   "cell_type": "markdown",
   "id": "3aa9d8e5",
   "metadata": {},
   "source": [
    "##### FOCI FOR FLIGHT 1 :"
   ]
  },
  {
   "cell_type": "code",
   "execution_count": 293,
   "id": "82570a37",
   "metadata": {
    "scrolled": false
   },
   "outputs": [
    {
     "name": "stdout",
     "output_type": "stream",
     "text": [
      "assume delete  [  1   7  12  41  47  52  81  82  83  84  85  86  87  88  89  90  91  92\n",
      "  93  94  95  96  97  98  99 100 101 102 103 104 105 106 107 108 109 110\n",
      " 111 112 113 114 115 116 117 118 119 120 123 124 129 160 161 162 163 166\n",
      " 172 174 182 183 197 202 232 237 266 269 270 271 277 278 279 287 288 300\n",
      " 301 302 303 304 305 306 307 308 309 310 311 312 313 314 315 316 317 318\n",
      " 319 320 321 322 323 324 325 326 327 328 329 330 331 332 336 367 397 426\n",
      " 455 456 457 458 459 460 461 462 463 464 465 466 467 468 469 470 471 472\n",
      " 473 474 475 476 477 478 479 480 481 482]\n",
      "instead of  (array([  1,  12,  41,  52,  81,  82,  83,  84,  85,  86,  87,  88,  89,\n",
      "        90,  91,  92,  93,  94,  95,  96,  97,  98,  99, 100, 101, 102,\n",
      "       103, 104, 105, 106, 107, 108, 109, 110, 111, 112, 113, 114, 115,\n",
      "       116, 117, 118, 119, 120, 123, 129, 161, 166, 172, 174, 182, 183,\n",
      "       202, 237, 266, 269, 270, 271, 277, 278, 279, 287, 288, 304, 336,\n",
      "       367, 397, 426, 455, 456, 457, 458, 459, 460, 461, 462, 463, 464,\n",
      "       465, 466, 467, 468, 469, 470, 471, 472, 473, 474, 475, 476, 477,\n",
      "       478, 479, 480, 481, 482], dtype=int64),)\n",
      "the argmax of all the estimator coefficient is  5\n",
      "This value is  0.9692702998315943\n"
     ]
    }
   ],
   "source": [
    "FOCI_result_1 = FOCI_function(data_sig1, Y_1, drop, dele)"
   ]
  },
  {
   "cell_type": "code",
   "execution_count": 294,
   "id": "9f813846",
   "metadata": {},
   "outputs": [],
   "source": [
    "indice1 = np.where(FOCI_result_1[1] <= 0)\n",
    "features_keep1 = data_sig1[:,FOCI_result_1[0]]\n",
    "features_keep1 = features_keep1[:,:539]"
   ]
  },
  {
   "cell_type": "markdown",
   "id": "236c7e7d",
   "metadata": {},
   "source": [
    "##### FOCI FOR FLIGHT 2 :"
   ]
  },
  {
   "cell_type": "code",
   "execution_count": 295,
   "id": "257efb55",
   "metadata": {
    "scrolled": true
   },
   "outputs": [
    {
     "name": "stdout",
     "output_type": "stream",
     "text": [
      "assume delete  [  1   7  12  41  47  52  81  82  83  84  85  86  87  88  89  90  91  92\n",
      "  93  94  95  96  97  98  99 100 101 102 103 104 105 106 107 108 109 110\n",
      " 111 112 113 114 115 116 117 118 119 120 123 124 129 160 161 162 163 166\n",
      " 172 174 182 183 197 202 232 237 266 269 270 271 277 278 279 287 288 300\n",
      " 301 302 303 304 305 306 307 308 309 310 311 312 313 314 315 316 317 318\n",
      " 319 320 321 322 323 324 325 326 327 328 329 330 331 332 336 367 397 426\n",
      " 455 456 457 458 459 460 461 462 463 464 465 466 467 468 469 470 471 472\n",
      " 473 474 475 476 477 478 479 480 481 482]\n",
      "instead of  (array([  1,   7,  12,  41,  47,  52,  81,  82,  83,  84,  85,  86,  87,\n",
      "        88,  89,  90,  91,  92,  93,  94,  95,  96,  97,  98,  99, 100,\n",
      "       101, 102, 103, 104, 105, 106, 107, 108, 109, 110, 111, 112, 113,\n",
      "       114, 115, 116, 117, 118, 119, 120, 124, 129, 160, 161, 162, 163,\n",
      "       166, 172, 174, 182, 183, 197, 202, 232, 237, 266, 271, 300, 301,\n",
      "       302, 303, 304, 305, 306, 307, 308, 309, 310, 311, 312, 313, 314,\n",
      "       315, 316, 317, 318, 319, 320, 321, 322, 323, 324, 325, 326, 327,\n",
      "       328, 329, 330, 331, 332, 336, 367, 397, 426, 455, 456, 457, 458,\n",
      "       459, 460, 461, 462, 463, 464, 465, 466, 467, 468, 469, 470, 471,\n",
      "       472, 473, 474, 475, 476, 477, 478, 479, 480, 481, 482], dtype=int64),)\n",
      "the argmax of all the estimator coefficient is  90\n",
      "This value is  0.7972881473636695\n"
     ]
    }
   ],
   "source": [
    "FOCI_result_2 = FOCI_function(data_sig2, Y_2, drop, dele)"
   ]
  },
  {
   "cell_type": "code",
   "execution_count": 296,
   "id": "bae19c69",
   "metadata": {},
   "outputs": [],
   "source": [
    "indice2 = np.where(FOCI_result_2[1] <= 0)\n",
    "features_keep2 = data_sig2[:,FOCI_result_2[0]]\n",
    "features_keep2 = features_keep2[:,:361]"
   ]
  },
  {
   "cell_type": "markdown",
   "id": "162cf06d",
   "metadata": {},
   "source": [
    "#### List of common indices that we keep for Regression :"
   ]
  },
  {
   "cell_type": "code",
   "execution_count": 297,
   "id": "e839fbaa",
   "metadata": {},
   "outputs": [
    {
     "data": {
      "text/plain": [
       "array([  5,  42, 171, 204, 206, 207, 209, 212, 214, 215, 216, 218, 219,\n",
       "       221, 222, 225, 227, 228,   0, 112, 111, 134, 118, 116, 124, 117,\n",
       "       113, 125, 119, 129, 115, 132, 122, 109, 110, 121, 120, 138, 126,\n",
       "       128, 205, 208, 210, 211, 213, 217, 220, 223, 224, 226, 135,  39,\n",
       "       136, 131, 127, 130, 123, 133,  81,   2, 114, 653,  97,  76, 621,\n",
       "       326, 239, 413, 663,  78, 107, 192,  77, 298, 666, 100, 485, 278,\n",
       "       274, 634, 351,  25, 248, 451, 273, 102, 318, 257, 103, 282, 264,\n",
       "       105, 175, 460, 252, 592, 276,  96, 527, 478, 487,  15, 519, 287,\n",
       "        37, 247,  83, 300, 530, 523, 159, 658, 277, 387,  28, 654, 657,\n",
       "        82, 307, 295, 607, 317, 328, 338,  91, 308, 433, 166,  26, 436,\n",
       "       327, 412, 648,  80,  27, 258, 255, 165, 635, 402, 259, 396, 336,\n",
       "       346, 288,  23, 386, 589, 503, 472, 229, 303, 379,  53, 254,  22,\n",
       "        90, 609, 143,  93, 191, 140, 587, 405, 342, 234, 691, 398, 167,\n",
       "       428, 272, 199, 518, 455, 639, 389, 554, 151, 242,  73, 528, 178,\n",
       "       281, 682, 591, 535, 431, 689,  21, 311, 188, 580, 251, 565, 686,\n",
       "       490, 297, 513,  58,  33, 438, 506, 509, 660, 253, 418, 676, 406,\n",
       "       403, 477, 569,  86, 495, 314, 286, 382, 500, 588, 690, 701, 411,\n",
       "       365, 417, 568, 421, 694, 620, 570, 160, 434, 685, 177, 319, 407,\n",
       "       544, 284, 470, 555, 263, 538, 707, 441, 410, 647, 617, 283, 446,\n",
       "       704, 256, 392, 697, 354, 504, 512, 463, 521, 179, 603, 548,  10,\n",
       "        34,  74, 176, 623, 615, 372, 349, 531, 630, 650, 552, 187, 312,\n",
       "       414, 332, 714, 582, 723, 443,  31,  68, 673, 604, 571, 423, 430,\n",
       "       358, 501, 466,   1, 393, 656, 380, 542, 429,  51, 301,  30, 469,\n",
       "       161, 189, 344, 614, 359, 549, 442, 633, 558, 641, 489,  65, 399,\n",
       "       606, 480,  45, 439, 424, 539, 557,  66, 700, 562, 706, 309, 680,\n",
       "       679, 452, 468, 200, 400, 581, 304, 194,  11, 203, 186, 677, 108,\n",
       "       605, 348, 184, 545, 195, 713, 394,  47, 696, 378, 237, 573,  14,\n",
       "       233, 385, 586, 724, 511, 157, 499, 719, 674,  41, 664, 416, 440,\n",
       "       628, 445, 683, 687, 698, 461, 643, 703,  95, 182, 543, 435, 625,\n",
       "       584, 579, 524, 427,  49, 505, 515, 681, 419, 324, 356,  32, 514,\n",
       "       360, 593,  48, 646, 684,  35, 377, 447, 709, 362,  57, 546, 388,\n",
       "       357, 702, 556,  36, 482, 540, 572, 529, 616, 471,  12, 156, 374,\n",
       "       722, 154, 716, 457, 598, 715, 496, 627, 353,  20, 567, 163, 384,\n",
       "       271, 533, 260, 699, 645, 370, 649, 695, 168, 341, 497,  24, 595,\n",
       "       241, 329, 155, 536, 343, 525,  69, 371, 711, 550, 337, 553, 137,\n",
       "       491,  60, 631,   7, 610,   6, 720,  71, 231, 391, 340, 636, 198,\n",
       "       339, 671, 708, 246, 574, 575, 310,  87, 291, 644, 293, 290, 174,\n",
       "        52, 462,  99, 507, 367, 629,  46, 576, 551, 316, 106,   8, 350,\n",
       "       710, 261,  61, 599, 632, 363, 594, 662, 193, 269, 596, 597, 373,\n",
       "       267,  64, 437,  84, 705, 712,  79, 294, 230, 688, 718,  29, 275,\n",
       "        92, 347,  38, 375, 458, 564, 465, 425, 333,  98,  13, 637, 717,\n",
       "       640, 467,  56, 190,  17, 148, 292,  54, 335, 638,  88, 368,  50,\n",
       "       611,  18, 675, 563, 383, 196, 153, 561, 352, 305, 334, 510, 345,\n",
       "       201, 180,  70, 330], dtype=int64)"
      ]
     },
     "execution_count": 297,
     "metadata": {},
     "output_type": "execute_result"
    }
   ],
   "source": [
    "kept_indice_pos_1 = np.where(FOCI_result_1[1] >= 0)\n",
    "FOCI_result_1[0][kept_indice_pos_1]"
   ]
  },
  {
   "cell_type": "code",
   "execution_count": 298,
   "id": "769960f5",
   "metadata": {},
   "outputs": [],
   "source": [
    "#set(list(features_keep2))\n",
    "kept_indice_pos_1 = np.where(FOCI_result_1[1] >= 0)\n",
    "kept_indice_pos_1 = set(FOCI_result_1[0][kept_indice_pos_1])\n",
    "\n",
    "kept_indice_pos_2 = np.where(FOCI_result_2[1] <= 0)\n",
    "kept_indice_pos_2=set(FOCI_result_2[0][kept_indice_pos_2])"
   ]
  },
  {
   "cell_type": "code",
   "execution_count": 299,
   "id": "807584d4",
   "metadata": {
    "scrolled": true
   },
   "outputs": [
    {
     "name": "stdout",
     "output_type": "stream",
     "text": [
      "Indices que l'on va garder : \n",
      " [640, 1, 259, 263, 8, 521, 264, 524, 15, 17, 657, 658, 20, 274, 662, 276, 402, 542, 288, 674, 163, 38, 166, 41, 297, 171, 298, 45, 686, 428, 48, 309, 569, 314, 316, 701, 702, 191, 580, 68, 711, 713, 330, 587, 77, 78, 333, 80, 208, 82, 209, 336, 467, 472, 218, 219, 220, 95, 223, 97, 352, 227, 100, 228, 614, 615, 229, 233, 106, 234, 491, 628, 251, 252, 254] \n",
      " nombre d'indices :  75\n"
     ]
    }
   ],
   "source": [
    "kept_common_idx = list(kept_indice_pos_1.intersection(kept_indice_pos_2))\n",
    "print(\"Indices que l'on va garder : \\n\", kept_common_idx, \"\\n nombre d'indices : \", len(kept_common_idx))"
   ]
  },
  {
   "cell_type": "markdown",
   "id": "67ac91db",
   "metadata": {},
   "source": [
    "***"
   ]
  },
  {
   "cell_type": "markdown",
   "id": "25bed8f1",
   "metadata": {},
   "source": [
    "Maintenant on utilise la R2 de sklearn pour comparer si on a un meilleur résultat en choisissant les bonnes signatures avec FOCI:"
   ]
  },
  {
   "cell_type": "code",
   "execution_count": 320,
   "id": "86602371",
   "metadata": {},
   "outputs": [],
   "source": [
    "from sklearn.linear_model import LinearRegression\n",
    "from sklearn.metrics import r2_score"
   ]
  },
  {
   "cell_type": "code",
   "execution_count": 367,
   "id": "a35c893b",
   "metadata": {},
   "outputs": [],
   "source": [
    "#X_1_opt = np.append(X_1, data_sig1[:, kept_common_idx], axis=1)\n",
    "#X_2_opt = np.append(X_2, data_sig2[:, kept_common_idx], axis=1)\n",
    "#X_1_opt.shape, X_2_opt.shape\n",
    "\n",
    "X_1_opt = data_sig1[:, kept_common_idx]\n",
    "X_2_opt = data_sig2[:, kept_common_idx]\n",
    "X_3_opt = data_sig3[:, kept_common_idx]"
   ]
  },
  {
   "cell_type": "code",
   "execution_count": 342,
   "id": "51cbb532",
   "metadata": {
    "scrolled": true
   },
   "outputs": [
    {
     "data": {
      "text/plain": [
       "-730.4315294359685"
      ]
     },
     "execution_count": 342,
     "metadata": {},
     "output_type": "execute_result"
    }
   ],
   "source": [
    "reg_OLS = LinearRegression()\n",
    "reg_OLS.fit(X_1, Y_1[:,1])\n",
    "\n",
    "r2 = r2_score(Y_2[:500,1], reg_OLS.predict(X_2[:500,:]))\n",
    "r2"
   ]
  },
  {
   "cell_type": "code",
   "execution_count": 343,
   "id": "b524e651",
   "metadata": {},
   "outputs": [
    {
     "data": {
      "text/plain": [
       "[<matplotlib.lines.Line2D at 0x17c45455160>]"
      ]
     },
     "execution_count": 343,
     "metadata": {},
     "output_type": "execute_result"
    }
   ],
   "source": [
    "plt.plot(reg_OLS.predict(X_2[:500,:]))"
   ]
  },
  {
   "cell_type": "code",
   "execution_count": null,
   "id": "24f05b11",
   "metadata": {},
   "outputs": [],
   "source": []
  },
  {
   "cell_type": "code",
   "execution_count": 368,
   "id": "82c226f7",
   "metadata": {},
   "outputs": [
    {
     "data": {
      "text/plain": [
       "-1110.3249258980086"
      ]
     },
     "execution_count": 368,
     "metadata": {},
     "output_type": "execute_result"
    }
   ],
   "source": [
    "reg_OLS = LinearRegression()\n",
    "reg_OLS.fit(X_1_opt, Y_1[:,1])\n",
    "\n",
    "r2 = r2_score(Y_3[500:,1], reg_OLS.predict(X_3_opt[500:,:]))\n",
    "r2"
   ]
  },
  {
   "cell_type": "code",
   "execution_count": 392,
   "id": "1d811be3",
   "metadata": {},
   "outputs": [
    {
     "data": {
      "text/plain": [
       "array([  0,   1,   2,   3,   4,   5,   6,   7,   8,   9,  10,  11,  12,\n",
       "        13,  14,  15,  16,  17,  18,  19,  20,  21,  22,  23,  24,  25,\n",
       "        26,  27,  28,  29,  30,  31,  32,  33,  34,  35,  36,  37,  38,\n",
       "        39,  40,  41,  42,  43,  44,  45,  46,  47,  48,  49,  50,  51,\n",
       "        52,  53,  54,  55,  56,  57,  58,  59,  60,  61,  62,  63,  64,\n",
       "        65,  66,  67,  68,  69,  70,  71,  72,  73,  74,  75,  76,  77,\n",
       "        78,  79,  80,  81,  82,  83,  84,  85,  86,  87,  88,  89,  90,\n",
       "        91,  92,  93,  94,  95,  96,  97,  98,  99, 100, 101, 102, 103,\n",
       "       104, 105, 106, 107, 108, 109, 110, 111, 112, 113, 114, 115, 116,\n",
       "       117, 118, 119, 120, 121, 122, 123, 124, 125, 126, 127, 128, 129,\n",
       "       130, 131, 132, 133, 134, 135, 136, 137, 138, 139, 140, 141, 142,\n",
       "       143, 144, 145, 146, 147, 148, 149])"
      ]
     },
     "execution_count": 392,
     "metadata": {},
     "output_type": "execute_result"
    }
   ],
   "source": [
    "# random select some samples between X1 and X2 \n",
    "\n"
   ]
  },
  {
   "cell_type": "code",
   "execution_count": 404,
   "id": "cc571d6b",
   "metadata": {},
   "outputs": [
    {
     "data": {
      "text/plain": [
       "(1921, 75)"
      ]
     },
     "execution_count": 404,
     "metadata": {},
     "output_type": "execute_result"
    }
   ],
   "source": [
    "# just for the fun \n",
    "concatenate = np.append(X_1_opt, X_3_opt, axis=1)\n",
    "liste = np.arange(0,len(X_1_opt[1])*2)\n",
    "\n",
    "random_list = np.random.choice(liste,X_1_opt.shape[1])\n",
    "\n",
    "new_data = concatenate[:,random_list]\n",
    "new_data.shape"
   ]
  },
  {
   "cell_type": "code",
   "execution_count": 435,
   "id": "b98a3927",
   "metadata": {},
   "outputs": [
    {
     "data": {
      "text/plain": [
       "(3842, 75)"
      ]
     },
     "execution_count": 435,
     "metadata": {},
     "output_type": "execute_result"
    }
   ],
   "source": [
    "concatenate = np.append(X_1_opt, X_3_opt, axis=0)\n",
    "concatenate.shape"
   ]
  },
  {
   "cell_type": "code",
   "execution_count": 441,
   "id": "332848dc",
   "metadata": {},
   "outputs": [
    {
     "data": {
      "text/plain": [
       "0.5821163575936688"
      ]
     },
     "execution_count": 441,
     "metadata": {},
     "output_type": "execute_result"
    }
   ],
   "source": [
    "#reg_OLS = LinearRegression()\n",
    "reg_OLS.fit(concatenate, np.append(Y_1[:,1],Y_3[:,1]))\n",
    "\n",
    "r2 = r2_score(Y_3[500:,1], reg_OLS.predict(X_3_opt[500:,:]))\n",
    "r2"
   ]
  },
  {
   "cell_type": "code",
   "execution_count": 443,
   "id": "1dece56e",
   "metadata": {},
   "outputs": [
    {
     "data": {
      "text/plain": [
       "0.49725901298615116"
      ]
     },
     "execution_count": 443,
     "metadata": {},
     "output_type": "execute_result"
    }
   ],
   "source": [
    "\n",
    "r2 = r2_score(Y_1[500:,1], reg_OLS.predict(X_1_opt[500:,:]))\n",
    "r2"
   ]
  },
  {
   "cell_type": "code",
   "execution_count": 442,
   "id": "e7a6a772",
   "metadata": {},
   "outputs": [
    {
     "data": {
      "text/plain": [
       "-5366792.730606846"
      ]
     },
     "execution_count": 442,
     "metadata": {},
     "output_type": "execute_result"
    }
   ],
   "source": [
    "r2 = r2_score(Y_2[500:,1], reg_OLS.predict(X_2_opt[500:,:]))\n",
    "r2"
   ]
  },
  {
   "cell_type": "code",
   "execution_count": null,
   "id": "973ddd8d",
   "metadata": {},
   "outputs": [],
   "source": [
    "# train with zones where signatures are not null improves a bit on train score but not the test score"
   ]
  },
  {
   "cell_type": "code",
   "execution_count": 430,
   "id": "18d61c64",
   "metadata": {},
   "outputs": [
    {
     "data": {
      "text/plain": [
       "(2842, 75)"
      ]
     },
     "execution_count": 430,
     "metadata": {},
     "output_type": "execute_result"
    }
   ],
   "source": [
    "concatenate = np.append(X_1_opt[500:], X_3_opt[500:], axis=0)\n",
    "concatenate.shape"
   ]
  },
  {
   "cell_type": "code",
   "execution_count": 431,
   "id": "cad2595b",
   "metadata": {},
   "outputs": [
    {
     "data": {
      "text/plain": [
       "(2842,)"
      ]
     },
     "execution_count": 431,
     "metadata": {},
     "output_type": "execute_result"
    }
   ],
   "source": [
    "np.shape(np.append(Y_1[500:,1],Y_2[500:,1]))"
   ]
  },
  {
   "cell_type": "code",
   "execution_count": 432,
   "id": "1e8b8b72",
   "metadata": {},
   "outputs": [
    {
     "data": {
      "text/plain": [
       "0.645586647742649"
      ]
     },
     "execution_count": 432,
     "metadata": {},
     "output_type": "execute_result"
    }
   ],
   "source": [
    "#reg_OLS = LinearRegression()\n",
    "reg_OLS.fit(concatenate, np.append(Y_1[500:,1],Y_3[500:,1]))\n",
    "\n",
    "r2 = r2_score(Y_3[500:,1], reg_OLS.predict(X_3_opt[500:,:]))\n",
    "r2"
   ]
  },
  {
   "cell_type": "code",
   "execution_count": 433,
   "id": "f25c0b32",
   "metadata": {},
   "outputs": [
    {
     "data": {
      "text/plain": [
       "0.5734239078527228"
      ]
     },
     "execution_count": 433,
     "metadata": {},
     "output_type": "execute_result"
    }
   ],
   "source": [
    "\n",
    "r2 = r2_score(Y_1[500:,1], reg_OLS.predict(X_1_opt[500:,:]))\n",
    "r2"
   ]
  },
  {
   "cell_type": "code",
   "execution_count": 434,
   "id": "c903e25e",
   "metadata": {},
   "outputs": [
    {
     "data": {
      "text/plain": [
       "-3401035.120193718"
      ]
     },
     "execution_count": 434,
     "metadata": {},
     "output_type": "execute_result"
    }
   ],
   "source": [
    "# but on a new test, bad prediction\n",
    "r2 = r2_score(Y_2[500:,1], reg_OLS.predict(X_2_opt[500:,:]))\n",
    "r2"
   ]
  },
  {
   "cell_type": "code",
   "execution_count": 421,
   "id": "c1c318fc",
   "metadata": {},
   "outputs": [
    {
     "data": {
      "text/plain": [
       "[<matplotlib.lines.Line2D at 0x17c612f00d0>]"
      ]
     },
     "execution_count": 421,
     "metadata": {},
     "output_type": "execute_result"
    }
   ],
   "source": [
    "plt.plot(reg_OLS.predict(X_2_opt[500:,:]))"
   ]
  },
  {
   "cell_type": "code",
   "execution_count": null,
   "id": "dd94c2c6",
   "metadata": {},
   "outputs": [],
   "source": [
    "# KFOLD to avoid overfit"
   ]
  },
  {
   "cell_type": "code",
   "execution_count": null,
   "id": "0a2a4f09",
   "metadata": {},
   "outputs": [],
   "source": []
  },
  {
   "cell_type": "code",
   "execution_count": null,
   "id": "abd8d7cf",
   "metadata": {},
   "outputs": [],
   "source": []
  },
  {
   "cell_type": "code",
   "execution_count": null,
   "id": "f46f187e",
   "metadata": {},
   "outputs": [],
   "source": []
  },
  {
   "cell_type": "code",
   "execution_count": null,
   "id": "ffcab072",
   "metadata": {},
   "outputs": [],
   "source": []
  },
  {
   "cell_type": "code",
   "execution_count": null,
   "id": "f98b0ab1",
   "metadata": {},
   "outputs": [],
   "source": []
  },
  {
   "cell_type": "code",
   "execution_count": null,
   "id": "7c913864",
   "metadata": {},
   "outputs": [],
   "source": []
  },
  {
   "cell_type": "code",
   "execution_count": 422,
   "id": "ca4581c9",
   "metadata": {
    "scrolled": true
   },
   "outputs": [
    {
     "data": {
      "text/plain": [
       "-927410.3010328271"
      ]
     },
     "execution_count": 422,
     "metadata": {},
     "output_type": "execute_result"
    }
   ],
   "source": [
    "reg_OLS = LinearRegression()\n",
    "reg_OLS.fit(X_1_opt, Y_1[:,1])\n",
    "\n",
    "r2 = r2_score(Y_2[500:,1], reg_OLS.predict(X_2_opt[500:,:]))\n",
    "r2"
   ]
  },
  {
   "cell_type": "code",
   "execution_count": null,
   "id": "fd8eb438",
   "metadata": {},
   "outputs": [],
   "source": []
  },
  {
   "cell_type": "code",
   "execution_count": null,
   "id": "2f5b6536",
   "metadata": {},
   "outputs": [],
   "source": []
  },
  {
   "cell_type": "code",
   "execution_count": null,
   "id": "9b80abd9",
   "metadata": {},
   "outputs": [],
   "source": []
  },
  {
   "cell_type": "code",
   "execution_count": 313,
   "id": "3df29c55",
   "metadata": {},
   "outputs": [],
   "source": [
    "X_3_opt = np.append(X_3, data_sig3[:, kept_common_idx], axis=1)"
   ]
  },
  {
   "cell_type": "code",
   "execution_count": 360,
   "id": "29eda13a",
   "metadata": {},
   "outputs": [],
   "source": [
    "kept_randomly=np.random.choice(800, len(kept_common_idx))\n",
    "random_signatures_1 = data_sig1[500:, kept_randomly]\n",
    "random_signatures_2= data_sig2[500:, kept_randomly]"
   ]
  },
  {
   "cell_type": "code",
   "execution_count": 361,
   "id": "d218ddb9",
   "metadata": {},
   "outputs": [
    {
     "data": {
      "text/plain": [
       "-1.223784595854353e+21"
      ]
     },
     "execution_count": 361,
     "metadata": {},
     "output_type": "execute_result"
    }
   ],
   "source": [
    "reg_OLS = LinearRegression()\n",
    "reg_OLS.fit(random_signatures_1, Y_1[500:,1])\n",
    "\n",
    "r2 = r2_score(Y_2[500:,1], reg_OLS.predict(random_signatures_2))\n",
    "r2"
   ]
  },
  {
   "cell_type": "code",
   "execution_count": 276,
   "id": "5b781b51",
   "metadata": {},
   "outputs": [
    {
     "data": {
      "text/plain": [
       "0.6034935113543736"
      ]
     },
     "execution_count": 276,
     "metadata": {},
     "output_type": "execute_result"
    }
   ],
   "source": [
    "reg_OLS=LinearRegression()\n",
    "reg_OLS.fit(data_sig, Y_1[:,1])\n",
    "pred = reg_OLS.predict(data_sig)\n",
    "reg_OLS.score(data_sig, Y_1[:,1])"
   ]
  },
  {
   "cell_type": "code",
   "execution_count": 364,
   "id": "d3ab4189",
   "metadata": {},
   "outputs": [],
   "source": [
    "plt.plot(Y_1[:,1], label=\"Y1\")\n",
    "plt.plot(Y_2[:,1], label=\"Y2\")\n",
    "plt.plot(Y_3[:,1], label=\"Y3\")\n",
    "plt.legend()\n",
    "plt.show()"
   ]
  },
  {
   "cell_type": "markdown",
   "id": "cb2677eb",
   "metadata": {},
   "source": [
    "***"
   ]
  },
  {
   "cell_type": "markdown",
   "id": "50d9d0b8",
   "metadata": {},
   "source": [
    "# TO DO :\n",
    "    \n",
    "    \n",
    "    \n",
    "    Solve the problem of Nan values in data_iid (ie. Z) --> DONE\n",
    "    \n",
    "    Compute the FOCI algorithm for signatures  --> DONE\n",
    "    \n",
    "    Keep just relevant Inputs indices --> DONE\n",
    "    \n",
    "    Run an Ordiary Least Squares and look at the R_squared measure to see if we have good results --> DONE\n",
    "    \n",
    "    Try to understand how to do the same with more than one flight --> DONE"
   ]
  },
  {
   "cell_type": "code",
   "execution_count": 446,
   "id": "342d9174",
   "metadata": {},
   "outputs": [],
   "source": [
    "from sklearn.neighbors import KDTree"
   ]
  },
  {
   "cell_type": "code",
   "execution_count": 469,
   "id": "57b1767b",
   "metadata": {},
   "outputs": [],
   "source": [
    "def new_FOCI(X, y, memory, dele=None):\n",
    "\n",
    "    delete = np.where(np.var( X, axis=0 ) == 0) ## deleting the zeros inputs \n",
    "    if dele is not None:\n",
    "    \n",
    "        print(\"assume delete \",dele)\n",
    "        print(\"instead of \",delete)\n",
    "    \n",
    "        delete = dele\n",
    "    else:\n",
    "            \n",
    "        print(\"to be deleted:\",delete)\n",
    "    \n",
    "    X = np.delete( X, delete, axis = 1)\n",
    "   \n",
    "    \n",
    "    X_train_stand = (X - np.mean(X, axis=0))/np.var(X, axis = 0) \n",
    "    Y_train_stand = (y[:,1] - np.mean(y[:,1], axis=0))/np.var(y[:,1], axis = 0) \n",
    "    \n",
    "    X_iid = np.zeros((int(X_train_stand.shape[0]/memory),X_train_stand.shape[1])) \n",
    "    Y_iid = np.zeros(int(y.shape[0]/memory))\n",
    "    \n",
    "    for k in range( int(X.shape[0]/memory)):     ## we have with this shape 100x40 instead of 2000x40 with iid data \n",
    "        X_iid[k,:] = X_train_stand[k*memory,:]\n",
    "        Y_iid[k] = Y_train_stand[k*memory]\n",
    "    \n",
    " \n",
    "    \n",
    "    Liste_principale = []   ### List of the inputs index in the decreasing order, raising the dependency between                 \n",
    "    value = []\n",
    "    \n",
    "    X_iid = np.append(X_iid, np.arange(X_iid.shape[1]).reshape(1,-1), axis=0) ## add a row of arange in our inputs for simplifying\n",
    "    print(X_iid.shape)    ## the code\n",
    "    \n",
    "    Z = X_iid #to keep the notation of the paper\n",
    "    Y = Y_iid #same as above\n",
    "    n = Z.shape[0] - 1 #number of rows into our model\n",
    "\n",
    "    R = np.argsort(Y) #R define below\n",
    "    L = n - R  #L define below\n",
    "\n",
    "\n",
    "    \n",
    "    T_list=np.zeros(Z.shape[1]) ## T_list is a list of the permutation N\n",
    "    \n",
    "    tree=KDTree(Z[:-1,:].transpose(), metric='euclidean')\n",
    "    for i in range(Z.shape[1]):\n",
    "        \n",
    "        # show the two nearest neighbors of each X in R^n, and take the good neighbor\n",
    "        \n",
    "        idx = tree.query(Z[:-1,i].transpose().reshape(1,-1), k=2)[1][:,1]\n",
    "        \n",
    "        ## Then, use the previous formula, when X = [], to implement the first iteration of FOCI algorithm :\n",
    "        T_list[i] = np.sum(n*np.minimum(R,R[idx]) - L**2)/np.sum(L*(n-L))  \n",
    "        \n",
    "    j_star = np.argmax(T_list) #j_star is the index where Tn as the highest value\n",
    "\n",
    "    Liste_principale.append(j_star)\n",
    "    value.append(T_list[j_star])\n",
    "\n",
    "    Z2 = Z # On stocke la valeur de Z dans Z2 \n",
    "    tree=KDTree(Z[:-1,:].transpose(), metric='euclidean')\n",
    "    X_=X_iid[:,j_star].reshape(-1,1) # X_ est l'input dont l'indice est j_star \n",
    "    idx=j_star\n",
    "    \n",
    "    for l in range(Z2.shape[1]):\n",
    "\n",
    "        X_ = np.concatenate((X_, Z[:,idx].reshape(-1,1)), axis=1) ## X_ is the conditionnal array in the formula\n",
    "        X_iid = np.delete(X_iid, idx, axis = 1)  #the new Z, without Z[j_star] \n",
    "        Z = X_iid  ## construct the new Z\n",
    "\n",
    "        nn = NearestNeighbors(n_neighbors=2, algorithm='kd_tree', metric='euclidean').fit(X_[:-1,:])\n",
    "        N = nn.kneighbors(X_)[1][:-1,1]  # la permutation N de l'estimateur      \n",
    "\n",
    "        T_list=np.zeros(Z.shape[1])\n",
    "        for i in range(Z.shape[1]):\n",
    "\n",
    "            # show the two nearest neighbors of each X in R^n\n",
    "            M = tree.query(Z[:-1,i].transpose().reshape(1,-1), k=2)[1][:,1]  #la permutation M de l'estimateur\n",
    "\n",
    "            ## Then, use the previous formula, when X != [], to implement the first iteration of FOCI algorithm :\n",
    "\n",
    "            T_list[i] = np.sum(np.minimum(R,R[M]) - np.minimum(R,R[N]))/np.sum(R-np.minimum(R,R[N]))\n",
    "        if T_list.any() == np.zeros(Z.shape[1]).any():\n",
    "            break\n",
    "    \n",
    "        idx = np.argmax(T_list)\n",
    "        \n",
    "        j_star = int(X_iid[-1, idx])\n",
    "\n",
    "        Liste_principale = np.append(Liste_principale, j_star)\n",
    "        value = np.append(value, T_list[j_star])\n",
    "    \n",
    "    X_iid = np.delete(Z2, -1, axis=0) #On reconstruit X\n",
    "    \n",
    "    return Liste_principale, value"
   ]
  }
 ],
 "metadata": {
  "kernelspec": {
   "display_name": "Python 3",
   "language": "python",
   "name": "python3"
  },
  "language_info": {
   "codemirror_mode": {
    "name": "ipython",
    "version": 3
   },
   "file_extension": ".py",
   "mimetype": "text/x-python",
   "name": "python",
   "nbconvert_exporter": "python",
   "pygments_lexer": "ipython3",
   "version": "3.8.8"
  }
 },
 "nbformat": 4,
 "nbformat_minor": 5
}
